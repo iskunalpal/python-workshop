{
 "cells": [
  {
   "cell_type": "markdown",
   "metadata": {},
   "source": [
    "# Exercise 1\n",
    "\n",
    "Build an interactive calculator that asks for two inputs and stores them in variables. \n",
    "The user should also be asked for whether to add, subtract, multiply or divide the two given numbers.\n",
    "Finally, the result of the operation should be displayed for the user.\n",
    "\n",
    "### Hint: \n",
    "\n",
    "1. The `input()` function always returns a string.\n",
    "2. Conditionals can be used to select the correct arithmatic operation based on input.\n",
    "\n",
    "\n",
    "A sample output for the program should be as follows:\n",
    "\n",
    "```\n",
    "[Input] Enter first number: 4\n",
    "[Input] Enter second number: 2\n",
    "[Input] Enter operation \n",
    "            (1 for addition, 2 for subtraction, 3 for multiplication 4 for division): 4\n",
    "[Output] The result is: 2\n",
    "```"
   ]
  },
  {
   "cell_type": "code",
   "execution_count": 1,
   "metadata": {},
   "outputs": [],
   "source": [
    "# Your code here\n"
   ]
  },
  {
   "cell_type": "markdown",
   "metadata": {},
   "source": [
    "---\n",
    "\n",
    "# Exercise 2\n",
    "\n",
    "Lets build a game. The variable named `guess` in the code below contains a number. This number can be changed at the will of the programmer. The user is asked continually the enter the number. If the number is same as the value stored in variable `guess`, the computer says *Congratulations!*. Otherwise the computer gives hints on whether the entered number is greater or less than the one stored and asks for input again.\n",
    "\n",
    "### Hint\n",
    "1. Code inside `while True:` loop will repeat indefinitely. However, anytime a `break` occurs, it stops.\n",
    "2. Conditionals can help in *greater* of *less* comparison.\n",
    "\n",
    "A sample output of the program with correct guess set as 5 should be:\n",
    "\n",
    "```\n",
    "[Input] Enter your guess: 10\n",
    "[Output] The number is smaller than 10. Try again...\n",
    "[Input] Enter your guess: 2\n",
    "[Output] The number is larger than 2. Try again...\n",
    "[Input] Enter your guess: 7\n",
    "[Output] The number is smaller than 7. Try again...\n",
    "[Input] Enter your guess: 5\n",
    "[Output] Congratulations. You have won!\n",
    "```"
   ]
  },
  {
   "cell_type": "code",
   "execution_count": null,
   "metadata": {},
   "outputs": [],
   "source": [
    "guess = 5\n",
    "\n",
    "# Your code here\n"
   ]
  }
 ],
 "metadata": {
  "kernelspec": {
   "display_name": "Python 3",
   "language": "python",
   "name": "python3"
  },
  "language_info": {
   "codemirror_mode": {
    "name": "ipython",
    "version": 3
   },
   "file_extension": ".py",
   "mimetype": "text/x-python",
   "name": "python",
   "nbconvert_exporter": "python",
   "pygments_lexer": "ipython3",
   "version": "3.5.2"
  }
 },
 "nbformat": 4,
 "nbformat_minor": 2
}
